{
 "cells": [
  {
   "cell_type": "code",
   "execution_count": 52,
   "metadata": {},
   "outputs": [],
   "source": [
    "import os ,glob, numpy as np\n",
    "import pandas as pd\n",
    "from scipy import stats\n",
    "from scipy.fftpack import fft\n",
    "from scipy import signal\n",
    "from sklearn.model_selection import KFold\n",
    "from sklearn import svm\n",
    "from sklearn.metrics import roc_curve\n",
    "from sklearn.preprocessing import StandardScaler\n",
    "from sklearn.neighbors import KNeighborsClassifier\n",
    "from sklearn.metrics import confusion_matrix, f1_score, auc\n",
    "from sklearn.discriminant_analysis import LinearDiscriminantAnalysis, QuadraticDiscriminantAnalysis\n",
    "import matplotlib.pyplot as plt\n",
    "\n",
    "import warnings\n",
    "warnings.filterwarnings('ignore')"
   ]
  },
  {
   "cell_type": "code",
   "execution_count": 37,
   "metadata": {},
   "outputs": [],
   "source": [
    "def Time_domain_statistics(a):\n",
    "    s = stats.describe(a)\n",
    "    return pd.DataFrame([s[2], s[3], s[4], s[5]]).stack()"
   ]
  },
  {
   "cell_type": "code",
   "execution_count": 3,
   "metadata": {},
   "outputs": [],
   "source": [
    "def Inter_channel_statistics(a):\n",
    "    f = []\n",
    "    f.append(max(signal.correlate(a[2],a[3])))\n",
    "    f.append(max(signal.correlate(a[1],a[3])))\n",
    "    f.append(max(signal.correlate(a[1],a[2])))\n",
    "    f.append(max(signal.correlate(a[0],a[3])))\n",
    "    f.append(max(signal.correlate(a[0],a[2])))\n",
    "    f.append(max(signal.correlate(a[0],a[1])))\n",
    "    f.append(max(signal.correlate(a[6],a[7])))\n",
    "    f.append(max(signal.correlate(a[5],a[7])))\n",
    "    f.append(max(signal.correlate(a[5],a[6])))\n",
    "    f.append(max(signal.correlate(a[4],a[7])))\n",
    "    f.append(max(signal.correlate(a[3],a[6])))\n",
    "    f.append(max(signal.correlate(a[4],a[5])))\n",
    "    \n",
    "    return pd.DataFrame(f)"
   ]
  },
  {
   "cell_type": "code",
   "execution_count": 4,
   "metadata": {},
   "outputs": [],
   "source": [
    "def Log_moments_of_Fourier_spectra(a):\n",
    "    S = a.apply(fft)\n",
    "    Delta = S.apply(np.abs).pow(2)\n",
    "    g = []\n",
    "    I = pd.DataFrame([i for i in range(1, Delta.shape[0] + 1)])\n",
    "    \n",
    "    for i in range(7):\n",
    "        nth = I.pow(i)\n",
    "        res = pd.DataFrame(nth.values * Delta.values)\n",
    "        res = res.sum(axis=0)\n",
    "        res = res.apply(abs)\n",
    "        res = res.pow(0.5)\n",
    "        g.append(res)\n",
    "        \n",
    "    g = pd.DataFrame(np.array(g).T)\n",
    "    \n",
    "    feature = pd.DataFrame()\n",
    "    feature = pd.concat([feature, g[0].apply(np.log)])\n",
    "    feature = pd.concat([feature, g[2].apply(np.log)])\n",
    "    feature = pd.concat([feature, g[4].apply(np.log)])\n",
    "    feature = pd.concat([feature, g[0].apply(np.log) - (0.5)*(g[2] - g[0]).apply(np.log) - (0.5)*(g[4] - g[0]).apply(np.log)])\n",
    "    feature = pd.concat([feature, g[2].apply(np.log) - (0.5)*(g[0] * g[4]).apply(np.log)])\n",
    "    feature = pd.concat([feature, g[0].apply(np.log) - (0.5)*(g[1] * g[3]).apply(np.log)])\n",
    "    feature = pd.concat([feature, g[0].apply(np.log) - (0.5)*(g[2] * g[6]).apply(np.log)])\n",
    "\n",
    "    for i in range(1, 5):\n",
    "        for j in range(2, 6):\n",
    "            if(i < j):\n",
    "                feature = pd.concat([feature, (0.5)*(g[i] * g[j]).apply(np.log)])\n",
    "    \n",
    "    return feature"
   ]
  },
  {
   "cell_type": "code",
   "execution_count": 5,
   "metadata": {},
   "outputs": [],
   "source": [
    "def Spectral_band_powers(a):\n",
    "    feature = pd.DataFrame()\n",
    "    S = a.apply(fft)\n",
    "    l = int(np.floor(len(S)/10))\n",
    "    for k in range(0, 9*l, l):\n",
    "        t = S.iloc[k:k+l]\n",
    "        r = t.apply(abs).pow(2)\n",
    "        r_sum = r.sum(axis=0)\n",
    "        feature = pd.concat([feature, pd.DataFrame(r_sum)])\n",
    "    \n",
    "    t = S.iloc[l*9:len(S)]\n",
    "    r = t.apply(abs).pow(2)\n",
    "    r_sum = r.sum(axis=0)\n",
    "    feature = pd.concat([feature, pd.DataFrame(r_sum)])\n",
    "\n",
    "    return feature"
   ]
  },
  {
   "cell_type": "code",
   "execution_count": 6,
   "metadata": {},
   "outputs": [],
   "source": [
    "def sign(val):\n",
    "    return np.array(val > 0, dtype=np.int32)\n",
    "\n",
    "def Local_binary_patterns(a):\n",
    "    Nsigval = 6\n",
    "    Ndown = 2\n",
    "    Lbp = 1\n",
    "    lbx = [i for i in range(-Nsigval//2, Nsigval//2 + 1) if(i != 0)]\n",
    "    basisvec = [2**i for i in range(0, (2*Nsigval-91) + 1, Ndown)]\n",
    "    abseg = a.apply(abs)    \n",
    "    LCCP = pd.DataFrame()\n",
    "    \n",
    "    for gx1 in range(0,len(abseg)-Nsigval):\n",
    "        gx = gx1 + Nsigval//2\n",
    "        sig_local_vec = pd.DataFrame([abseg.iloc[gx+i] for i in lbx])\n",
    "        Cv = abseg.iloc[gx-Lbp: gx+Lbp].apply(np.mean)\n",
    "        tempVec = (sig_local_vec - Cv).apply(sign)\n",
    "        LCCP = pd.concat([LCCP, pd.DataFrame(np.dot(basisvec, tempVec))], axis=1)\n",
    "    \n",
    "    ans = pd.DataFrame()\n",
    "    for i in range(8):\n",
    "        temp, _ = np.histogram(LCCP.iloc[i], 2)\n",
    "        ans = pd.concat([ans, pd.DataFrame(temp)])\n",
    "    return ans"
   ]
  },
  {
   "cell_type": "code",
   "execution_count": 7,
   "metadata": {},
   "outputs": [],
   "source": [
    "def features(text_file):\n",
    "    all_seg_features = pd.DataFrame()\n",
    "    for i in range(len(text_file)):\n",
    "        feature = pd.DataFrame()\n",
    "        \n",
    "        tds = Time_domain_statistics(text_file[i])\n",
    "        feature = pd.concat([feature, tds])\n",
    "        \n",
    "        ics = Inter_channel_statistics(text_file[i])\n",
    "        feature = pd.concat([feature, ics])\n",
    "        \n",
    "        lms = Log_moments_of_Fourier_spectra(text_file[i])\n",
    "        feature = pd.concat([feature, lms])\n",
    "        '''\n",
    "        sbp = Spectral_band_powers(text_file[i])\n",
    "        feature = pd.concat([feature, sbp])\n",
    "        \n",
    "        lbp = Local_binary_patterns(text_file[i])\n",
    "        feature = pd.concat([feature, lbp])\n",
    "        '''\n",
    "        all_seg_features = pd.concat([all_seg_features, feature], axis=1)\n",
    "    return all_seg_features.T"
   ]
  },
  {
   "cell_type": "code",
   "execution_count": 38,
   "metadata": {},
   "outputs": [
    {
     "name": "stdout",
     "output_type": "stream",
     "text": [
      "./EMGPhysicalActionDataSet/sub1/Normal/txt\n",
      "./EMGPhysicalActionDataSet/sub1/Aggressive/txt\n",
      "./EMGPhysicalActionDataSet/sub3/Normal/txt\n",
      "./EMGPhysicalActionDataSet/sub3/Aggressive/txt\n",
      "./EMGPhysicalActionDataSet/sub2/Normal/txt\n",
      "./EMGPhysicalActionDataSet/sub2/Aggressive/txt\n",
      "./EMGPhysicalActionDataSet/sub4/Normal/txt\n",
      "./EMGPhysicalActionDataSet/sub4/Aggressive/txt\n"
     ]
    }
   ],
   "source": [
    "directory = \"./EMGPhysicalActionDataSet\"\n",
    "searchFine   = os.path.join( directory, \"sub*\" )\n",
    "filesFine = glob.glob( searchFine )\n",
    "\n",
    "features_sub = pd.DataFrame()\n",
    "Y = []\n",
    "for i in filesFine:\n",
    "    filesFolder = os.path.join(i,\"Normal\",\"txt\")\n",
    "    filesList = os.path.join( filesFolder, \"*.txt\" )\n",
    "    files = glob.glob(filesList)\n",
    "    for j in files:\n",
    "        s = pd.read_csv(j, sep=\"\\s+\", header = None)\n",
    "        dummy = []\n",
    "        length_segment = int(np.floor(len(s)/15))\n",
    "        remainder = len(s) - (15*length_segment)\n",
    "        for k in range(0, 14*length_segment,length_segment):\n",
    "            temp = s.iloc[k:k+length_segment]\n",
    "            dummy.append(temp)\n",
    "            Y.append(0)\n",
    "        temp = s.iloc[length_segment*14:len(s)]\n",
    "        dummy.append(temp)\n",
    "        Y.append(0)\n",
    "        \n",
    "        dummy_features = features(dummy)\n",
    "        \n",
    "        features_sub = pd.concat([features_sub, dummy_features])\n",
    "    print(filesFolder)\n",
    "    \n",
    "    filesFolder = os.path.join(i,\"Aggressive\",\"txt\")\n",
    "    filesList = os.path.join( filesFolder, \"*.txt\" )\n",
    "    files = glob.glob(filesList)\n",
    "    for j in files:\n",
    "        s = pd.read_csv(j, sep=\"\\s+\", header = None)\n",
    "        dummy = []\n",
    "        length_segment = int(np.floor(len(s)/15))\n",
    "        remainder = len(s) - (15*length_segment)\n",
    "        for k in range(0, 14*length_segment,length_segment):\n",
    "            temp = s.iloc[k:k+length_segment]\n",
    "            dummy.append(temp)\n",
    "            Y.append(1)\n",
    "        temp = s.iloc[length_segment*14:len(s)]\n",
    "        Y.append(1)\n",
    "        dummy.append(temp)\n",
    "        dummy_features = features(dummy)\n",
    "        \n",
    "        features_sub = pd.concat([features_sub, dummy_features])\n",
    "        \n",
    "    print(filesFolder)"
   ]
  },
  {
   "cell_type": "code",
   "execution_count": 39,
   "metadata": {},
   "outputs": [
    {
     "name": "stdout",
     "output_type": "stream",
     "text": [
      "(1200, 180) (1200,)\n"
     ]
    }
   ],
   "source": [
    "features_sub = np.array(features_sub)\n",
    "Y = np.array(Y)\n",
    "\n",
    "print(features_sub.shape, Y.shape)"
   ]
  },
  {
   "cell_type": "code",
   "execution_count": 47,
   "metadata": {},
   "outputs": [],
   "source": [
    "# shuff = np.arange(0, 1200)\n",
    "# np.random.shuffle(shuff)\n",
    "\n",
    "############## UNCOMMENT TO REPRODUCE THE RESULTS\n",
    "features_sub = np.load(\"features.npy\")\n",
    "shuff = np.load(\"shuffle.npy\")\n",
    "#################################################\n",
    "\n",
    "features_sub = features_sub[shuff]\n",
    "Y = Y[shuff]"
   ]
  },
  {
   "cell_type": "code",
   "execution_count": 48,
   "metadata": {},
   "outputs": [
    {
     "name": "stdout",
     "output_type": "stream",
     "text": [
      "Accuracy: 0.9666666666666667\n",
      "[[61  3]\n",
      " [ 1 55]]\n",
      "F1 score: 0.9649122807017544\n"
     ]
    },
    {
     "data": {
      "image/png": "[encoded data removed]",
      "text/plain": [
       "<Figure size 432x288 with 1 Axes>"
      ]
     },
     "metadata": {
      "needs_background": "light"
     },
     "output_type": "display_data"
    }
   ],
   "source": [
    "########################### LDA ########################\n",
    "kf = KFold(n_splits=10)\n",
    "temp = 0\n",
    "for train, test in kf.split(features_sub):\n",
    "    scaler = StandardScaler()\n",
    "    features_sub_norm = scaler.fit_transform(features_sub[train])\n",
    "    lda = LinearDiscriminantAnalysis()\n",
    "    lda.fit(features_sub_norm, Y[train])\n",
    "    features_sub_norm_test = scaler.transform(features_sub[test])\n",
    "    acc = lda.score(features_sub_norm_test, Y[test])\n",
    "    if(acc > temp):\n",
    "        temp = acc\n",
    "        LDA = lda\n",
    "        test_data = [features_sub_norm_test, Y[test]]\n",
    "\n",
    "lda_prd = LDA.predict(test_data[0])\n",
    "\n",
    "print(\"Accuracy: %s\" % (LDA.score(test_data[0], test_data[1])))\n",
    "print(confusion_matrix(test_data[1], lda_prd))\n",
    "print(\"F1 score: %s\" % f1_score(test_data[1], lda_prd))\n",
    "      \n",
    "# ROC curve and finding area under the curve\n",
    "y_score = LDA.decision_function(test_data[0])\n",
    "fpr, tpr, thr = roc_curve(test_data[1], y_score)\n",
    "roc_auc = auc(fpr, tpr)\n",
    "# Plotting the curve\n",
    "plt.figure()\n",
    "plt.plot(fpr, tpr, color='red',label='ROC curve (area = %0.2f)' % roc_auc)\n",
    "plt.plot([0, 1], [0, 1], color='navy',linestyle='--')\n",
    "plt.xlim([0.0, 1.0])\n",
    "plt.ylim([0.0, 1.05])\n",
    "plt.xlabel('False Positive Rate')\n",
    "plt.ylabel('True Positive Rate')\n",
    "plt.title('ROC for Linear Discriminant Analysis')\n",
    "plt.legend(loc=\"lower right\")\n",
    "plt.show()"
   ]
  },
  {
   "cell_type": "code",
   "execution_count": 49,
   "metadata": {},
   "outputs": [
    {
     "name": "stdout",
     "output_type": "stream",
     "text": [
      "Accuracy: 0.9416666666666667\n",
      "[[56  5]\n",
      " [ 2 57]]\n",
      "F1 score: 0.9421487603305785\n"
     ]
    },
    {
     "data": {
      "image/png": "[encoded data removed]",
      "text/plain": [
       "<Figure size 432x288 with 1 Axes>"
      ]
     },
     "metadata": {
      "needs_background": "light"
     },
     "output_type": "display_data"
    }
   ],
   "source": [
    "########################### QDA ########################\n",
    "kf = KFold(n_splits=10)\n",
    "temp = 0\n",
    "for train, test in kf.split(features_sub):\n",
    "    scaler = StandardScaler()\n",
    "    features_sub_norm = scaler.fit_transform(features_sub[train])\n",
    "    qda = QuadraticDiscriminantAnalysis()\n",
    "    qda.fit(features_sub_norm, Y[train])\n",
    "    features_sub_norm_test = scaler.transform(features_sub[test])\n",
    "    acc = qda.score(features_sub_norm_test, Y[test])\n",
    "    if(acc > temp):\n",
    "        temp = acc\n",
    "        QDA = qda\n",
    "        test_data = [features_sub_norm_test, Y[test]]\n",
    "\n",
    "qda_prd = QDA.predict(test_data[0])\n",
    "\n",
    "print(\"Accuracy: %s\" % (QDA.score(test_data[0], test_data[1])))\n",
    "print(confusion_matrix(test_data[1], qda_prd))\n",
    "print(\"F1 score: %s\" % f1_score(test_data[1], qda_prd))\n",
    "\n",
    "# ROC curve and finding area under the curve\n",
    "y_score = QDA.decision_function(test_data[0])\n",
    "fpr, tpr, thr = roc_curve(test_data[1], y_score)\n",
    "roc_auc = auc(fpr, tpr)\n",
    "# Plotting the curve\n",
    "plt.figure()\n",
    "plt.plot(fpr, tpr, color='red',label='ROC curve (area = %0.2f)' % roc_auc)\n",
    "plt.plot([0, 1], [0, 1], color='navy',linestyle='--')\n",
    "plt.xlim([0.0, 1.0])\n",
    "plt.ylim([0.0, 1.05])\n",
    "plt.xlabel('False Positive Rate')\n",
    "plt.ylabel('True Positive Rate')\n",
    "plt.title('ROC for Quadratic Discriminant Analysis')\n",
    "plt.legend(loc=\"lower right\")\n",
    "plt.show()"
   ]
  },
  {
   "cell_type": "code",
   "execution_count": 50,
   "metadata": {},
   "outputs": [
    {
     "name": "stdout",
     "output_type": "stream",
     "text": [
      "Accuracy: 0.975\n",
      "[[58  2]\n",
      " [ 1 59]]\n",
      "F1 score: 0.9752066115702478\n"
     ]
    },
    {
     "data": {
      "image/png": "[encoded data removed]",
      "text/plain": [
       "<Figure size 432x288 with 1 Axes>"
      ]
     },
     "metadata": {
      "needs_background": "light"
     },
     "output_type": "display_data"
    }
   ],
   "source": [
    "########################### SVM with polynomial kernel ########################\n",
    "kf = KFold(n_splits=10)\n",
    "temp = 0\n",
    "for train, test in kf.split(features_sub):\n",
    "    scaler = StandardScaler()\n",
    "    features_sub_norm = scaler.fit_transform(features_sub[train])\n",
    "    p_svm = svm.SVC(C=10, kernel='poly', gamma='scale', degree=2)\n",
    "    p_svm.fit(features_sub_norm, Y[train])\n",
    "    features_sub_norm_test = scaler.transform(features_sub[test])\n",
    "    acc = p_svm.score(features_sub_norm_test, Y[test])\n",
    "    if(acc > temp):\n",
    "        temp = acc\n",
    "        P_SVM = p_svm\n",
    "        test_data = [features_sub_norm_test, Y[test]]\n",
    "\n",
    "p_svm_prd = P_SVM.predict(test_data[0])\n",
    "\n",
    "print(\"Accuracy: %s\" % (P_SVM.score(test_data[0], test_data[1])))\n",
    "print(confusion_matrix(test_data[1], p_svm_prd))\n",
    "print(\"F1 score: %s\" % f1_score(test_data[1], p_svm_prd))\n",
    "\n",
    "# ROC curve and finding area under the curve\n",
    "y_score = P_SVM.decision_function(test_data[0])\n",
    "fpr, tpr, thr = roc_curve(test_data[1], y_score)\n",
    "roc_auc = auc(fpr, tpr)\n",
    "# Plotting the curve\n",
    "plt.figure()\n",
    "plt.plot(fpr, tpr, color='red',label='ROC curve (area = %0.2f)' % roc_auc)\n",
    "plt.plot([0, 1], [0, 1],linestyle='--')\n",
    "plt.xlim([0.0, 1.0])\n",
    "plt.ylim([0.0, 1.05])\n",
    "plt.xlabel('False Positive Rate')\n",
    "plt.ylabel('True Positive Rate')\n",
    "plt.title('ROC for SVM with polynomial kernel')\n",
    "plt.legend(loc=\"lower right\")\n",
    "plt.show()"
   ]
  },
  {
   "cell_type": "code",
   "execution_count": 51,
   "metadata": {},
   "outputs": [
    {
     "name": "stdout",
     "output_type": "stream",
     "text": [
      "Accuracy: 1.0\n",
      "[[52  0]\n",
      " [ 0 68]]\n",
      "F1 score: 1.0\n"
     ]
    },
    {
     "data": {
      "image/png": "[encoded data removed]",
      "text/plain": [
       "<Figure size 432x288 with 1 Axes>"
      ]
     },
     "metadata": {
      "needs_background": "light"
     },
     "output_type": "display_data"
    }
   ],
   "source": [
    "########################### SVM with rbf kernel ########################\n",
    "kf = KFold(n_splits=10)\n",
    "temp = 0\n",
    "for train, test in kf.split(features_sub):\n",
    "    scaler = StandardScaler()\n",
    "    features_sub_norm = scaler.fit_transform(features_sub[train])\n",
    "    g_svm = svm.SVC(C=10, gamma='scale')\n",
    "    g_svm.fit(features_sub_norm, Y[train])\n",
    "    features_sub_norm_test = scaler.transform(features_sub[test])\n",
    "    acc = g_svm.score(features_sub_norm_test, Y[test])\n",
    "    if(acc > temp):\n",
    "        temp = acc\n",
    "        G_SVM = g_svm\n",
    "        test_data = [features_sub_norm_test, Y[test]]\n",
    "\n",
    "g_svm_prd = G_SVM.predict(test_data[0])\n",
    "\n",
    "print(\"Accuracy: %s\" % (G_SVM.score(test_data[0], test_data[1])))\n",
    "print(confusion_matrix(test_data[1], g_svm_prd))\n",
    "print(\"F1 score: %s\" % f1_score(test_data[1], g_svm_prd))\n",
    "\n",
    "\n",
    "# ROC curve and finding area under the curve\n",
    "y_score = G_SVM.decision_function(test_data[0])\n",
    "fpr, tpr, thr = roc_curve(test_data[1], y_score)\n",
    "roc_auc = auc(fpr, tpr)\n",
    "# Plotting the curve\n",
    "plt.figure()\n",
    "plt.plot(fpr, tpr, color='red',label='ROC curve (area = %0.2f)' % roc_auc)\n",
    "plt.plot([0, 1], [0, 1], linestyle='--')\n",
    "plt.xlim([0.0, 1.0])\n",
    "plt.ylim([0.0, 1.05])\n",
    "plt.xlabel('False Positive Rate')\n",
    "plt.ylabel('True Positive Rate')\n",
    "plt.title('ROC for SVM with rbf kernel')\n",
    "plt.legend(loc=\"lower right\")\n",
    "plt.show()"
   ]
  },
  {
   "cell_type": "code",
   "execution_count": 45,
   "metadata": {},
   "outputs": [
    {
     "name": "stdout",
     "output_type": "stream",
     "text": [
      "Accuracy: 0.9916666666666667\n",
      "[[65  0]\n",
      " [ 1 54]]\n",
      "F1 score: 0.9908256880733944\n"
     ]
    }
   ],
   "source": [
    "########################### KNN ########################\n",
    "kf = KFold(n_splits=10)\n",
    "temp = 0\n",
    "for train, test in kf.split(features_sub):\n",
    "    scaler = StandardScaler()\n",
    "    features_sub_norm = scaler.fit_transform(features_sub[train])\n",
    "    neigh = KNeighborsClassifier(n_neighbors=10)\n",
    "    neigh.fit(features_sub_norm, Y[train])\n",
    "    features_sub_norm_test = scaler.transform(features_sub[test])\n",
    "    acc = neigh.score(features_sub_norm_test, Y[test])\n",
    "    if(acc > temp):\n",
    "        temp = acc\n",
    "        KNN = neigh\n",
    "        test_data = [features_sub_norm_test, Y[test]]\n",
    "\n",
    "knn_prd = KNN.predict(test_data[0])\n",
    "\n",
    "print(\"Accuracy: %s\" % (KNN.score(test_data[0], test_data[1])))\n",
    "print(confusion_matrix(test_data[1], knn_prd))\n",
    "print(\"F1 score: %s\" % f1_score(test_data[1], knn_prd))"
   ]
  },
  {
   "cell_type": "code",
   "execution_count": null,
   "metadata": {},
   "outputs": [],
   "source": []
  },
  {
   "cell_type": "code",
   "execution_count": 46,
   "metadata": {},
   "outputs": [],
   "source": [
    "### TO SAVE THE FEATURES ###\n",
    "\n",
    "# np.save(\"features.npy\", features_sub)"
   ]
  },
  {
   "cell_type": "code",
   "execution_count": null,
   "metadata": {},
   "outputs": [],
   "source": []
  },
  {
   "cell_type": "code",
   "execution_count": null,
   "metadata": {},
   "outputs": [],
   "source": []
  },
  {
   "cell_type": "code",
   "execution_count": null,
   "metadata": {},
   "outputs": [],
   "source": []
  },
  {
   "cell_type": "code",
   "execution_count": null,
   "metadata": {},
   "outputs": [],
   "source": []
  },
  {
   "cell_type": "code",
   "execution_count": null,
   "metadata": {},
   "outputs": [],
   "source": []
  },
  {
   "cell_type": "code",
   "execution_count": null,
   "metadata": {},
   "outputs": [],
   "source": []
  }
 ],
 "metadata": {
  "kernelspec": {
   "display_name": "Python 3",
   "language": "python",
   "name": "python3"
  },
  "language_info": {
   "codemirror_mode": {
    "name": "ipython",
    "version": 3
   },
   "file_extension": ".py",
   "mimetype": "text/x-python",
   "name": "python",
   "nbconvert_exporter": "python",
   "pygments_lexer": "ipython3",
   "version": "3.6.9"
  }
 },
 "nbformat": 4,
 "nbformat_minor": 2
}
